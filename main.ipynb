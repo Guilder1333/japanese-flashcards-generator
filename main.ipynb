{
 "cells": [
  {
   "cell_type": "code",
   "execution_count": null,
   "metadata": {},
   "outputs": [],
   "source": [
    "from openai import OpenAI\n",
    "\n",
    "client = OpenAI(\n",
    "    base_url = 'http://localhost:11434/v1',\n",
    "    api_key='ollama', # required, but unused\n",
    ")\n",
    "\n",
    "\"You are a japanese language learning assistant. You need to generate 5 example sentences for the word you are asked about. Answer consists of 5 example senteces on japanese. No additional formatting. Each sentence is new line. No numeration required.\"\n",
    "assignment = \"日本語の勉強の教育アシスタントです。受けた言葉に5つの例文を作って。例文のレベルは日本語能力試験のN3ぐらいです。それ以外何も書き出せないことです。フォーマットなしです。\"\n",
    "\n",
    "response = client.chat.completions.create(\n",
    "  model=\"schroneko/gemma-2-2b-jpn-it\",\n",
    "  messages=[\n",
    "    {\"role\": \"system\", \"content\": assignment},\n",
    "    {\"role\": \"user\", \"content\": \"暗示\"},\n",
    "  ]\n",
    ")\n",
    "print(response.choices[0].message.content)"
   ]
  },
  {
   "cell_type": "code",
   "execution_count": null,
   "metadata": {},
   "outputs": [],
   "source": [
    "from openai_grabber import OllamaGrabber\n",
    "from word_tokenizer import WordTokenizer\n",
    "\n",
    "t = WordTokenizer()\n",
    "w = t.make_word(\"暗示\")\n",
    "\n",
    "g = OllamaGrabber()\n",
    "list(g.get_sentences(w, 5))"
   ]
  },
  {
   "cell_type": "code",
   "execution_count": 6,
   "metadata": {},
   "outputs": [
    {
     "data": {
      "text/plain": [
       "'行動が 増え［フエ］たとしても、証拠の証拠集と嫁の浮気を 見破る［ミヤブル］方法が不倫証拠に宮城県岩沼市されており、それにも 関わら［カカワラ］ず。'"
      ]
     },
     "execution_count": 6,
     "metadata": {},
     "output_type": "execute_result"
    }
   ],
   "source": [
    "from word_tokenizer import WordTokenizer\n",
    "\n",
    "t = WordTokenizer()\n",
    "w = t.make_word(\"行動\")\n",
    "\n",
    "# t.extract_sentence(w, \"妻にこの様な行動が 増え［フエ］たとしても、証拠の証拠集と嫁の浮気を 見破る［ミヤブル］方法が不倫証拠に宮城県岩沼市されており、それにも 関わら［カカワラ］ず。離婚問題などを 扱う［アツカウ］職業でもあるため、調査が 始まる［ハジマル］と対象者に 気付か［キヅカ］れることを 防ぐ［フセグ］ため、浮気の防止が可能になります。あなたの旦那さんが宮城県岩沼市で浮気しているかどうか、解決を 下さ［クダサ］れた事務所のみですが、探偵はそのあたりもうまく 行い［オコナイ］ます。ラブホテルに 出入り［デイリ］する写真を 押さえ［オサエ］、どこで何をしていて、妻不倫とは簡単に言うと。\")\n",
    "t.extract_sentence(w, \"行動が 増え［フエ］たとしても、証拠の証拠集と嫁の浮気を 見破る［ミヤブル］方法が不倫証拠に宮城県岩沼市されており、それにも 関わら［カカワラ］ず。。。\")"
   ]
  }
 ],
 "metadata": {
  "kernelspec": {
   "display_name": "Python 3",
   "language": "python",
   "name": "python3"
  },
  "language_info": {
   "codemirror_mode": {
    "name": "ipython",
    "version": 3
   },
   "file_extension": ".py",
   "mimetype": "text/x-python",
   "name": "python",
   "nbconvert_exporter": "python",
   "pygments_lexer": "ipython3",
   "version": "3.11.4"
  }
 },
 "nbformat": 4,
 "nbformat_minor": 2
}
